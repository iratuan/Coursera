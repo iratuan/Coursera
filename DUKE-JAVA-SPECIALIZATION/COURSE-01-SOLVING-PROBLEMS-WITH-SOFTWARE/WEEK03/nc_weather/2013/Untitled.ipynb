{
 "cells": [
  {
   "cell_type": "code",
   "execution_count": 40,
   "metadata": {},
   "outputs": [
    {
     "data": {
      "text/plain": [
       "21    4:51 PM\n",
       "22    5:51 PM\n",
       "Name: TimeEDT, dtype: object"
      ]
     },
     "execution_count": 40,
     "metadata": {},
     "output_type": "execute_result"
    }
   ],
   "source": [
    "import pandas as pd\n",
    "\n",
    "# Run your program from programming exercise Parsing Weather Data to determine the lowest humidity in the file for July 22nd, 2014 (weather-2014-07-22.csv).\n",
    "df = pd.read_csv('../2014/weather-2014-07-22.csv')\n",
    "lower_time = df[df['Humidity'] == df['Humidity'].min()]['TimeEDT']\n",
    "lower_time\n"
   ]
  },
  {
   "cell_type": "code",
   "execution_count": 17,
   "metadata": {},
   "outputs": [
    {
     "data": {
      "text/plain": [
       "4387    2013-06-13 18:51:00\n",
       "4388    2013-06-13 19:51:00\n",
       "5370    2013-07-16 19:51:00\n",
       "5371    2013-07-16 20:51:00\n",
       "5372    2013-07-16 21:51:00\n",
       "6038    2013-08-10 18:51:00\n",
       "Name: DateUTC, dtype: object"
      ]
     },
     "execution_count": 17,
     "metadata": {},
     "output_type": "execute_result"
    }
   ],
   "source": [
    "s_temperature = df[df['TemperatureF']== df['TemperatureF'].max()]['DateUTC']\n",
    "s_temperature"
   ]
  },
  {
   "cell_type": "code",
   "execution_count": 41,
   "metadata": {},
   "outputs": [
    {
     "data": {
      "text/plain": [
       "1834     5:51 PM\n",
       "2078     6:51 PM\n",
       "2083    11:51 PM\n",
       "2084    12:51 AM\n",
       "2086     2:51 AM\n",
       "Name: TimeEDT, dtype: object"
      ]
     },
     "execution_count": 41,
     "metadata": {},
     "output_type": "execute_result"
    }
   ],
   "source": [
    "# Run your program from programming exercise Parsing Weather Data to determine the lowest humidity reading in 2013.\n",
    "df = pd.read_csv('../2013/combined_csv.csv')\n",
    "lower_time = df[df['Humidity'] == df['Humidity'].min()]['TimeEDT']\n",
    "lower_time"
   ]
  },
  {
   "cell_type": "code",
   "execution_count": 54,
   "metadata": {},
   "outputs": [
    {
     "data": {
      "text/plain": [
       "72.59375"
      ]
     },
     "execution_count": 54,
     "metadata": {},
     "output_type": "execute_result"
    }
   ],
   "source": [
    "# .Pergunta 9\n",
    "#Run your program from programming exercise Parsing Weather Data to determine the average temperature in Fahrenheit for those temperature readings when the humidity is greater than or equal to 80 on September 2, 2013 (weather-2013-09-02.csv).\n",
    "df = pd.read_csv('weather-2013-09-02.csv')\n",
    "mean = df[df['Humidity'] >= 80]['TemperatureF'].mean()\n",
    "mean"
   ]
  },
  {
   "cell_type": "code",
   "execution_count": 55,
   "metadata": {},
   "outputs": [],
   "source": [
    "df = pd.read_csv('../2013/combined_csv.csv')"
   ]
  },
  {
   "cell_type": "code",
   "execution_count": 57,
   "metadata": {},
   "outputs": [
    {
     "data": {
      "text/html": [
       "<div>\n",
       "<style scoped>\n",
       "    .dataframe tbody tr th:only-of-type {\n",
       "        vertical-align: middle;\n",
       "    }\n",
       "\n",
       "    .dataframe tbody tr th {\n",
       "        vertical-align: top;\n",
       "    }\n",
       "\n",
       "    .dataframe thead th {\n",
       "        text-align: right;\n",
       "    }\n",
       "</style>\n",
       "<table border=\"1\" class=\"dataframe\">\n",
       "  <thead>\n",
       "    <tr style=\"text-align: right;\">\n",
       "      <th></th>\n",
       "      <th>TimeEST</th>\n",
       "      <th>TemperatureF</th>\n",
       "      <th>Dew PointF</th>\n",
       "      <th>Humidity</th>\n",
       "      <th>Sea Level PressureIn</th>\n",
       "      <th>VisibilityMPH</th>\n",
       "      <th>Wind Direction</th>\n",
       "      <th>Wind SpeedMPH</th>\n",
       "      <th>Gust SpeedMPH</th>\n",
       "      <th>PrecipitationIn</th>\n",
       "      <th>Events</th>\n",
       "      <th>Conditions</th>\n",
       "      <th>WindDirDegrees</th>\n",
       "      <th>DateUTC</th>\n",
       "      <th>TimeEDT</th>\n",
       "    </tr>\n",
       "  </thead>\n",
       "  <tbody>\n",
       "    <tr>\n",
       "      <th>598</th>\n",
       "      <td>5:51 AM</td>\n",
       "      <td>19.0</td>\n",
       "      <td>8.1</td>\n",
       "      <td>62</td>\n",
       "      <td>30.34</td>\n",
       "      <td>10.0</td>\n",
       "      <td>Calm</td>\n",
       "      <td>Calm</td>\n",
       "      <td>-</td>\n",
       "      <td>NaN</td>\n",
       "      <td>NaN</td>\n",
       "      <td>Partly Cloudy</td>\n",
       "      <td>0</td>\n",
       "      <td>2013-01-23 10:51:00</td>\n",
       "      <td>NaN</td>\n",
       "    </tr>\n",
       "    <tr>\n",
       "      <th>599</th>\n",
       "      <td>6:51 AM</td>\n",
       "      <td>19.0</td>\n",
       "      <td>9.0</td>\n",
       "      <td>65</td>\n",
       "      <td>30.35</td>\n",
       "      <td>10.0</td>\n",
       "      <td>Calm</td>\n",
       "      <td>Calm</td>\n",
       "      <td>-</td>\n",
       "      <td>NaN</td>\n",
       "      <td>NaN</td>\n",
       "      <td>Clear</td>\n",
       "      <td>0</td>\n",
       "      <td>2013-01-23 11:51:00</td>\n",
       "      <td>NaN</td>\n",
       "    </tr>\n",
       "    <tr>\n",
       "      <th>600</th>\n",
       "      <td>7:51 AM</td>\n",
       "      <td>19.0</td>\n",
       "      <td>10.0</td>\n",
       "      <td>68</td>\n",
       "      <td>30.36</td>\n",
       "      <td>10.0</td>\n",
       "      <td>Calm</td>\n",
       "      <td>Calm</td>\n",
       "      <td>-</td>\n",
       "      <td>NaN</td>\n",
       "      <td>NaN</td>\n",
       "      <td>Partly Cloudy</td>\n",
       "      <td>0</td>\n",
       "      <td>2013-01-23 12:51:00</td>\n",
       "      <td>NaN</td>\n",
       "    </tr>\n",
       "    <tr>\n",
       "      <th>8863</th>\n",
       "      <td>5:51 AM</td>\n",
       "      <td>19.0</td>\n",
       "      <td>10.9</td>\n",
       "      <td>71</td>\n",
       "      <td>30.57</td>\n",
       "      <td>10.0</td>\n",
       "      <td>Calm</td>\n",
       "      <td>Calm</td>\n",
       "      <td>-</td>\n",
       "      <td>NaN</td>\n",
       "      <td>NaN</td>\n",
       "      <td>Partly Cloudy</td>\n",
       "      <td>0</td>\n",
       "      <td>2013-11-25 10:51:00</td>\n",
       "      <td>NaN</td>\n",
       "    </tr>\n",
       "    <tr>\n",
       "      <th>8864</th>\n",
       "      <td>6:51 AM</td>\n",
       "      <td>19.0</td>\n",
       "      <td>12.0</td>\n",
       "      <td>74</td>\n",
       "      <td>30.57</td>\n",
       "      <td>10.0</td>\n",
       "      <td>Calm</td>\n",
       "      <td>Calm</td>\n",
       "      <td>-</td>\n",
       "      <td>NaN</td>\n",
       "      <td>NaN</td>\n",
       "      <td>Partly Cloudy</td>\n",
       "      <td>0</td>\n",
       "      <td>2013-11-25 11:51:00</td>\n",
       "      <td>NaN</td>\n",
       "    </tr>\n",
       "  </tbody>\n",
       "</table>\n",
       "</div>"
      ],
      "text/plain": [
       "      TimeEST  TemperatureF  Dew PointF  Humidity  ...     Conditions  WindDirDegrees              DateUTC TimeEDT\n",
       "598   5:51 AM          19.0         8.1        62  ...  Partly Cloudy               0  2013-01-23 10:51:00     NaN\n",
       "599   6:51 AM          19.0         9.0        65  ...          Clear               0  2013-01-23 11:51:00     NaN\n",
       "600   7:51 AM          19.0        10.0        68  ...  Partly Cloudy               0  2013-01-23 12:51:00     NaN\n",
       "8863  5:51 AM          19.0        10.9        71  ...  Partly Cloudy               0  2013-11-25 10:51:00     NaN\n",
       "8864  6:51 AM          19.0        12.0        74  ...  Partly Cloudy               0  2013-11-25 11:51:00     NaN\n",
       "\n",
       "[5 rows x 15 columns]"
      ]
     },
     "execution_count": 57,
     "metadata": {},
     "output_type": "execute_result"
    }
   ],
   "source": [
    "df[df['TemperatureF'] == df['TemperatureF'].min()]"
   ]
  },
  {
   "cell_type": "code",
   "execution_count": null,
   "metadata": {},
   "outputs": [],
   "source": []
  }
 ],
 "metadata": {
  "kernelspec": {
   "display_name": "Python 3",
   "language": "python",
   "name": "python3"
  },
  "language_info": {
   "codemirror_mode": {
    "name": "ipython",
    "version": 3
   },
   "file_extension": ".py",
   "mimetype": "text/x-python",
   "name": "python",
   "nbconvert_exporter": "python",
   "pygments_lexer": "ipython3",
   "version": "3.8.2"
  }
 },
 "nbformat": 4,
 "nbformat_minor": 4
}
